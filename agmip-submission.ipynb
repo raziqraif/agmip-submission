{
 "cells": [
  {
   "cell_type": "code",
   "execution_count": 1,
   "metadata": {},
   "outputs": [],
   "source": [
    "# %matplotlib widget TODO Make matplotlib interactive mode work correctly \n",
    "\n",
    "# This notebook is based on Self-Contained Science App, rcampbel@purdue.edu  \n",
    "# from scripts import model      as scsa_model\n",
    "# from scripts import view       as scsa_view\n",
    "# from scripts import controller as scsa_controller\n",
    "\n",
    "from IPython.display import HTML\n",
    "\n",
    "# display(HTML(filename='style.html'))  # Generic app appearance \n",
    "# display(HTML(filename='header.html')) # Notebook-specific title and style\n",
    "\n",
    "# # Create MVC objects\n",
    "# model = scsa_model.Model()\n",
    "# view  = scsa_view.View()\n",
    "# ctrl  = scsa_controller.Controller(log_mode=0) # 0=none 1=info 2=debug\n",
    "\n",
    "# # Inform MVC objects of ea. other\n",
    "# model.intro(view,ctrl)\n",
    "# view.intro(model,ctrl)\n",
    "# ctrl.intro(model,view)\n",
    "\n",
    "# # Run the notebook\n",
    "# ctrl.start()"
   ]
  },
  {
   "cell_type": "code",
   "execution_count": 2,
   "metadata": {},
   "outputs": [],
   "source": [
    "import ipywidgets as ui\n",
    "from typing import Union"
   ]
  },
  {
   "cell_type": "code",
   "execution_count": 3,
   "metadata": {},
   "outputs": [],
   "source": [
    "def section(title: str, contents: Union[str, any]) -> ui.Accordion:\n",
    "    \"\"\"Create a collapsible widget container\"\"\"\n",
    "\n",
    "    if type(contents) == str:\n",
    "        contents = [ui.HTML(value=contents)]\n",
    "\n",
    "    ret = ui.Accordion(children=tuple([ui.VBox(contents)]))\n",
    "    ret.set_title(0, title)\n",
    "    return ret\n"
   ]
  },
  {
   "cell_type": "code",
   "execution_count": 4,
   "metadata": {},
   "outputs": [],
   "source": [
    "\"\"\" WELCOME PAGE \"\"\"\n",
    "\n",
    "_usage_section = section(\"Using this app\", \"<div>some instruction</div>\")\n",
    "\n",
    "welcome_page = ui.VBox(children=[_usage_section])"
   ]
  },
  {
   "cell_type": "code",
   "execution_count": 5,
   "metadata": {},
   "outputs": [],
   "source": [
    "\"\"\" FILE UPLOAD PAGE \"\"\"\n",
    "\n",
    "_upload_button = ui.Button(\n",
    "    description=\"Upload\",\n",
    "    disabled=False,\n",
    "    tooltip='Upload a file to MyGeoHub',\n",
    "    icon='upload'\n",
    "\n",
    ")\n",
    "\n",
    "_upload_button_container = ui.HBox(children=[ui.HTML(text=[\"Upload a file:\"]), _upload_button])\n",
    "\n",
    "\n",
    "file_upload_page = ui.HBox(children=[_upload_button_container])"
   ]
  },
  {
   "cell_type": "code",
   "execution_count": 6,
   "metadata": {},
   "outputs": [],
   "source": [
    "\"\"\" FILE FORMAT PAGE \"\"\"\n",
    "\n",
    "\n",
    "file_format_page = ui.HBox(children=[])"
   ]
  },
  {
   "cell_type": "code",
   "execution_count": 7,
   "metadata": {},
   "outputs": [],
   "source": [
    "\"\"\" DIAGNOSIS PAGE \"\"\"\n",
    "\n",
    "diagnosis_page = ui.HBox(children=[])"
   ]
  },
  {
   "cell_type": "code",
   "execution_count": 8,
   "metadata": {},
   "outputs": [
    {
     "data": {
      "text/html": [
       "<!-- style.html: General app CSS -->\n",
       "<style>\n",
       ".jupyter-widgets.widget-tab > .p-TabBar .p-TabBar-tab {\n",
       "    flex: 0 1 300px\n",
       "}\n",
       ".p-Collapse-header {\n",
       "    color: white !important;\n",
       "    background-color: steelblue !important;\n",
       "    padding-top: 3px;\n",
       "    padding-bottom: 3px;\n",
       "}\n",
       ".p-TabBar-tabLabel {\n",
       "    font-weight: bold !important;\n",
       "    color: steelblue !important;\n",
       "    margin-top: 1em !important;\n",
       "    margin-bottom: 1em !important;\n",
       "}\n",
       ".widget-label {\n",
       "    text-align: left !important;\n",
       "}\n",
       "p {\n",
       "    line-height: 1.2em;\n",
       "    margin-bottom: 1em;\n",
       "}\n",
       "/* Avoid output scrollbars (sub-windowing) */\n",
       ".output_wrapper, .output {\n",
       "    height: auto !important;\n",
       "    max-height: 99999px;\n",
       "}\n",
       ".output_scroll {\n",
       "    box-shadow: none !important;\n",
       "}\n",
       "#site {\n",
       "    height: 100% !important;\n",
       "}\n",
       ".prompt {\n",
       "    min-width: 1px !important; /* Collapse left margin */\n",
       "}\n",
       "pre {\n",
       "    user-select: all;\n",
       "}\n",
       "</style>\n"
      ],
      "text/plain": [
       "<IPython.core.display.HTML object>"
      ]
     },
     "metadata": {},
     "output_type": "display_data"
    },
    {
     "data": {
      "text/html": [
       "<!-- header.html: Notebook-specific CSS and title -->\n",
       "<style>\n",
       ".this_nb_title {\n",
       "    color: white;\n",
       "    background-color: #1E3A8A;\n",
       "    font-size: 16px;\n",
       "}\n",
       ".selmono {\n",
       "    font-family: \"Lucida Console\", Monaco, monospace !important;\n",
       "    width: 100%;\n",
       "}\n",
       ".widget-select > select {\n",
       "    font-family: monospace !important;\n",
       "}\n",
       "/* Cause plotly to display \"modebar\" */\n",
       ".container {\n",
       "    min-width: 1200px !important;\n",
       "}\n",
       "</style>\n",
       "<!-- <span class=\"this_nb_title\">AgMIP Model Submission</span> -->\n"
      ],
      "text/plain": [
       "<IPython.core.display.HTML object>"
      ]
     },
     "metadata": {},
     "output_type": "display_data"
    },
    {
     "data": {
      "application/vnd.jupyter.widget-view+json": {
       "model_id": "dd7b82e27f7b44c796d9456ca6b55605",
       "version_major": 2,
       "version_minor": 0
      },
      "text/plain": [
       "Tab(children=(VBox(children=(Accordion(children=(VBox(children=(HTML(value='<div>some instruction</div>'),)),)…"
      ]
     },
     "metadata": {},
     "output_type": "display_data"
    }
   ],
   "source": [
    "tab_titles = ['Welcome', 'Upload a file', 'Specify format', 'Diagnosis', 'Plausibility Checking']\n",
    "\n",
    "children = [welcome_page, file_upload_page, ui.Box(), ui.Box(), ui.Box()]\n",
    "tab = ui.Tab()\n",
    "tab.children = children\n",
    "\n",
    "for i in range(len(children)):\n",
    "    tab.set_title(i, tab_titles[i])\n",
    "    \n",
    "display(HTML(filename='style.html'))  # Generic app appearance \n",
    "display(HTML(filename='header.html')) # Notebook-specific title and style\n",
    " \n",
    "tab"
   ]
  },
  {
   "cell_type": "code",
   "execution_count": null,
   "metadata": {},
   "outputs": [],
   "source": []
  },
  {
   "cell_type": "code",
   "execution_count": 9,
   "metadata": {},
   "outputs": [
    {
     "data": {
      "text/html": [
       "\n",
       "<style>\n",
       "    .stepper {\n",
       "    \n",
       "    }\n",
       "\n",
       "    .stepper__number {\n",
       "        color: white;\n",
       "        padding: 6px 0px 0px 0px;\n",
       "        height: 40px;\n",
       "        width: 40px;\n",
       "        border-radius: 50%;\n",
       "        text-align: center;\n",
       "    }\n",
       "\n",
       "    .stepper__number--active {\n",
       "        background: #60A5FA;\n",
       "        color: white;\n",
       "    }\n",
       "\n",
       "    .stepper__number--inactive {\n",
       "        background: lightgrey;\n",
       "        color: white;\n",
       "    }\n",
       "\n",
       "    .stepper__text {\n",
       "        margin: 0px 4px;\n",
       "    }\n",
       "    \n",
       "    .stepper__text--active {\n",
       "        color: #1E3A8A;\n",
       "    }\n",
       "    \n",
       "    .stepper__text--inactive {\n",
       "        color: lightgrey;\n",
       "    }\n",
       "\n",
       "    .stepper__separator {\n",
       "        height: 2;\n",
       "        width: 48px;\n",
       "        border: none;\n",
       "    }\n",
       "\n",
       "    .stepper__separator--active {\n",
       "        color: #60A5FA;\n",
       "    }\n",
       "\n",
       "    .stepper__separator--inactive {\n",
       "    \n",
       "    }\n",
       "</style>\n"
      ],
      "text/plain": [
       "<IPython.core.display.HTML object>"
      ]
     },
     "metadata": {},
     "output_type": "display_data"
    },
    {
     "data": {
      "application/vnd.jupyter.widget-view+json": {
       "model_id": "41a36431bf7e47809d479628be2eea64",
       "version_major": 2,
       "version_minor": 0
      },
      "text/plain": [
       "Box(children=(HTML(value='1', _dom_classes=('stepper__number', 'stepper__number--active')), HTML(value='First …"
      ]
     },
     "metadata": {},
     "output_type": "display_data"
    }
   ],
   "source": [
    "css = \"\"\"\n",
    "<style>\n",
    "    .stepper {\n",
    "    \n",
    "    }\n",
    "\n",
    "    .stepper__number {\n",
    "        color: white;\n",
    "        padding: 6px 0px 0px 0px;\n",
    "        height: 40px;\n",
    "        width: 40px;\n",
    "        border-radius: 50%;\n",
    "        text-align: center;\n",
    "    }\n",
    "\n",
    "    .stepper__number--active {\n",
    "        background: #60A5FA;\n",
    "        color: white;\n",
    "    }\n",
    "\n",
    "    .stepper__number--inactive {\n",
    "        background: lightgrey;\n",
    "        color: white;\n",
    "    }\n",
    "\n",
    "    .stepper__text {\n",
    "        margin: 0px 4px;\n",
    "    }\n",
    "    \n",
    "    .stepper__text--active {\n",
    "        color: #1E3A8A;\n",
    "    }\n",
    "    \n",
    "    .stepper__text--inactive {\n",
    "        color: lightgrey;\n",
    "    }\n",
    "\n",
    "    .stepper__separator {\n",
    "        height: 2;\n",
    "        width: 48px;\n",
    "        border: none;\n",
    "    }\n",
    "\n",
    "    .stepper__separator--active {\n",
    "        color: #60A5FA;\n",
    "    }\n",
    "\n",
    "    .stepper__separator--inactive {\n",
    "    \n",
    "    }\n",
    "</style>\n",
    "\"\"\"\n",
    "\n",
    "value = \"\"\"test\"\"\"\n",
    "display(HTML(css))\n",
    "\n",
    "# page_1 = ui.HTML('<div class=\"stepper-page-number stepper-visited\">1</div>')\n",
    "# page_1_text = ui.HTML('<div class=\"stepper-page-text\">Upload a file</div>')\n",
    "\n",
    "stepper_separator = ui.HTML(\"<hr width=48px/>\")\n",
    "\n",
    "stepper_number_1 = ui.HTML(\"1\")\n",
    "stepper_number_1.add_class(\"stepper__number\")\n",
    "stepper_number_1.add_class(\"stepper__number--active\")\n",
    "\n",
    "stepper_text_1 = ui.HTML(\"First step\")\n",
    "stepper_text_1.add_class(\"stepper__text\")\n",
    "stepper_text_1.add_class(\"stepper__text--active\")\n",
    "\n",
    "stepper_number_2 = ui.HTML(\"2\")\n",
    "stepper_number_2.add_class(\"stepper__number\")\n",
    "stepper_number_2.add_class(\"stepper__number--inactive\")\n",
    "\n",
    "stepper_text_2 = ui.HTML(\"Second step\")\n",
    "stepper_text_2.add_class(\"stepper__text\")\n",
    "stepper_text_2.add_class(\"stepper__text--inactive\")\n",
    "\n",
    "stepper_number_3 = ui.HTML(\"3\")\n",
    "stepper_number_3.add_class(\"stepper__number\")\n",
    "stepper_number_3.add_class(\"stepper__number--inactive\")\n",
    "\n",
    "stepper_text_3 = ui.HTML(\"Third step\")\n",
    "stepper_text_3.add_class(\"stepper__text\")\n",
    "stepper_text_3.add_class(\"stepper__text--inactive\")\n",
    "\n",
    "stepper_number_4 = ui.HTML(\"4\")\n",
    "stepper_number_4.add_class(\"stepper__number\")\n",
    "stepper_number_4.add_class(\"stepper__number--inactive\")\n",
    "\n",
    "stepper_text_4 = ui.HTML(\"Fourth step\")\n",
    "stepper_text_4.add_class(\"stepper__text\")\n",
    "stepper_text_4.add_class(\"stepper__text--inactive\")\n",
    "\n",
    "children = [\n",
    "    stepper_number_1, stepper_text_1, stepper_separator,\n",
    "    stepper_number_2, stepper_text_2, stepper_separator,\n",
    "    stepper_number_3, stepper_text_3, stepper_separator,\n",
    "    stepper_number_4, stepper_text_4\n",
    "]\n",
    "\n",
    "layout = ui.Layout(\n",
    "    display=\"flex\",\n",
    "    align_items=\"center\",\n",
    ") \n",
    "\n",
    "stepper = ui.Box(children=children,layout=layout)\n",
    "stepper"
   ]
  },
  {
   "cell_type": "code",
   "execution_count": 14,
   "metadata": {},
   "outputs": [
    {
     "data": {
      "text/html": [
       "<!-- style.html: General app CSS -->\n",
       "<style>\n",
       ".jupyter-widgets.widget-tab > .p-TabBar .p-TabBar-tab {\n",
       "    flex: 0 1 300px\n",
       "}\n",
       ".p-Collapse-header {\n",
       "    color: white !important;\n",
       "    background-color: steelblue !important;\n",
       "    padding-top: 3px;\n",
       "    padding-bottom: 3px;\n",
       "}\n",
       ".p-TabBar-tabLabel {\n",
       "    font-weight: bold !important;\n",
       "    color: steelblue !important;\n",
       "    margin-top: 1em !important;\n",
       "    margin-bottom: 1em !important;\n",
       "}\n",
       ".widget-label {\n",
       "    text-align: left !important;\n",
       "}\n",
       "p {\n",
       "    line-height: 1.2em;\n",
       "    margin-bottom: 1em;\n",
       "}\n",
       "/* Avoid output scrollbars (sub-windowing) */\n",
       ".output_wrapper, .output {\n",
       "    height: auto !important;\n",
       "    max-height: 99999px;\n",
       "}\n",
       ".output_scroll {\n",
       "    box-shadow: none !important;\n",
       "}\n",
       "#site {\n",
       "    height: 100% !important;\n",
       "}\n",
       ".prompt {\n",
       "    min-width: 1px !important; /* Collapse left margin */\n",
       "}\n",
       "pre {\n",
       "    user-select: all;\n",
       "}\n",
       "</style>\n"
      ],
      "text/plain": [
       "<IPython.core.display.HTML object>"
      ]
     },
     "metadata": {},
     "output_type": "display_data"
    },
    {
     "data": {
      "text/html": [
       "<!-- header.html: Notebook-specific CSS and title -->\n",
       "<style>\n",
       ".this_nb_title {\n",
       "    color: white;\n",
       "    background-color: #1E3A8A;\n",
       "    font-size: 16px;\n",
       "    font-weight: strong;\n",
       "}\n",
       ".selmono {\n",
       "    font-family: \"Lucida Console\", Monaco, monospace !important;\n",
       "    width: 100%;\n",
       "}\n",
       ".widget-select > select {\n",
       "    font-family: monospace !important;\n",
       "}\n",
       "/* Cause plotly to display \"modebar\" */\n",
       ".container {\n",
       "    min-width: 1200px !important;\n",
       "}\n",
       "</style>\n",
       "<!-- <span class=\"this_nb_title\">AgMIP Model Submission</span> -->\n"
      ],
      "text/plain": [
       "<IPython.core.display.HTML object>"
      ]
     },
     "metadata": {},
     "output_type": "display_data"
    },
    {
     "data": {
      "application/vnd.jupyter.widget-view+json": {
       "model_id": "ee83c7a65c204e8d88a2016f8a743319",
       "version_major": 2,
       "version_minor": 0
      },
      "text/plain": [
       "VBox(children=(VBox(children=(HTML(value='AgMIP Model Submission', _dom_classes=('this_nb_title',)),), layout=…"
      ]
     },
     "metadata": {},
     "output_type": "display_data"
    }
   ],
   "source": [
    "display(HTML(filename='style.html'))  # Generic app appearance \n",
    "display(HTML(filename='header.html')) # Notebook-specific title and style\n",
    "\n",
    "header_layout = ui.Layout(\n",
    "    width=\"100%\",\n",
    "    height=\"56px\",\n",
    "    display=\"flex\",\n",
    "    flex_flow=\"row wrap\",\n",
    "    align_items=\"center\",\n",
    "    padding=\"0px 48px\"\n",
    ")\n",
    "\n",
    "body_layout = ui.Layout(\n",
    "    width=\"100%\",\n",
    "    height=\"100%\",\n",
    "    padding=\"24px 48px\",\n",
    "    border=\"1px solid black\",\n",
    ")\n",
    "\n",
    "header = ui.VBox(children=[ui.HTML(tag=\"div\", value=\"AgMIP Model Submission\")], layout=header_layout)\n",
    "header.add_class(\"this_nb_title\")\n",
    "header.children[0].add_class(\"this_nb_title\")\n",
    "\n",
    "body = ui.VBox(children=[stepper], layout=body_layout)\n",
    "display(ui.VBox(children=[header, body]))"
   ]
  },
  {
   "cell_type": "code",
   "execution_count": 23,
   "metadata": {},
   "outputs": [
    {
     "data": {
      "application/vnd.jupyter.widget-view+json": {
       "model_id": "a97c8e94c914495fba782e1434853794",
       "version_major": 2,
       "version_minor": 0
      },
      "text/plain": [
       "Tab(children=(Box(layout=Layout(height='50px')), Box(), Box(), Box()), _titles={'0': 'First step', '1': 'Secon…"
      ]
     },
     "metadata": {},
     "output_type": "display_data"
    }
   ],
   "source": [
    "children = [ui.Box(layout=ui.Layout(height=\"50px\")), ui.Box(), ui.Box(), ui.Box()]\n",
    "tab_titles = [\"First step\", \"Second step\", \"Third step\", \"Fourth step\"]\n",
    "tab = ui.Tab(children=children)\n",
    "\n",
    "for i in range(len(children)):\n",
    "    tab.set_title(i, tab_titles[i])\n",
    "\n",
    "tab"
   ]
  },
  {
   "cell_type": "code",
   "execution_count": null,
   "metadata": {},
   "outputs": [],
   "source": []
  },
  {
   "cell_type": "code",
   "execution_count": null,
   "metadata": {},
   "outputs": [],
   "source": []
  },
  {
   "cell_type": "code",
   "execution_count": null,
   "metadata": {},
   "outputs": [],
   "source": []
  },
  {
   "cell_type": "code",
   "execution_count": null,
   "metadata": {},
   "outputs": [],
   "source": []
  },
  {
   "cell_type": "code",
   "execution_count": null,
   "metadata": {},
   "outputs": [],
   "source": []
  },
  {
   "cell_type": "code",
   "execution_count": null,
   "metadata": {},
   "outputs": [],
   "source": []
  },
  {
   "cell_type": "code",
   "execution_count": null,
   "metadata": {},
   "outputs": [],
   "source": []
  },
  {
   "cell_type": "code",
   "execution_count": null,
   "metadata": {},
   "outputs": [],
   "source": []
  }
 ],
 "metadata": {
  "kernelspec": {
   "display_name": "Python 3",
   "language": "python",
   "name": "python3"
  },
  "language_info": {
   "codemirror_mode": {
    "name": "ipython",
    "version": 3
   },
   "file_extension": ".py",
   "mimetype": "text/x-python",
   "name": "python",
   "nbconvert_exporter": "python",
   "pygments_lexer": "ipython3",
   "version": "3.7.7"
  }
 },
 "nbformat": 4,
 "nbformat_minor": 4
}
