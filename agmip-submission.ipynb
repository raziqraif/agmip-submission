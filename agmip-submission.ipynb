{
 "cells": [
  {
   "cell_type": "code",
   "execution_count": null,
   "id": "11137e65",
   "metadata": {},
   "outputs": [],
   "source": [
    "%load_ext autoreload\n",
    "%autoreload 2\n",
    "%load_ext snakeviz"
   ]
  },
  {
   "cell_type": "code",
   "execution_count": null,
   "id": "20e0ae75",
   "metadata": {},
   "outputs": [],
   "source": [
    "# This notebook is based on Self-Contained Science App\n",
    "from scripts import model      as scsa_model\n",
    "from scripts import view       as scsa_view\n",
    "from scripts import controller as scsa_controller\n",
    "\n",
    "from IPython.display import HTML\n",
    "\n",
    "# Create MVC objects\n",
    "model = scsa_model.Model()\n",
    "view  = scsa_view.View()\n",
    "ctrl  = scsa_controller.Controller() # 0=none 1=info 2=debug\n",
    "\n",
    "# Inform MVC objects of ea. other\n",
    "model.intro(view,ctrl)\n",
    "view.intro(model,ctrl)\n",
    "ctrl.intro(model,view)\n",
    "\n",
    "# Run the notebook\n",
    "ctrl.start()\n",
    "\n",
    "view.ua_file_label.value = \"SampleData.csv\"\n",
    "ctrl.onclick_next_from_page_1(None)\n",
    "model.model_name = \"AIM\"\n",
    "ctrl.onclick_next_from_page_2(None)\n",
    "ctrl.onclick_next_from_page_3(None)"
   ]
  },
  {
   "cell_type": "code",
   "execution_count": null,
   "id": "fe5b9977",
   "metadata": {},
   "outputs": [],
   "source": [
    "from scripts.model import Model\n",
    "from scripts.business import DataSpecification, DataCleaningService\n",
    "\n",
    "data_specification = DataSpecification()\n",
    "data_specification.uploaded_filepath = (\n",
    "#     Model.WORKING_DIR.parent / \"resources\" / \"submissions\" / \"output_GLOBIOM_AgMIP3_12mar2021.csv\"\n",
    "    Model.WORKING_DIR.parent / \"resources\" / \"submissions\" / \"AgMip_CAPRI_diet_results_Feb18.csv\"\n",
    "#     Model.WORKING_DIR / \"SampleData.csv\"\n",
    ")\n",
    "data_specification.load_file()\n",
    "data_specification.delimiter = \",\"\n",
    "data_specification.model_name = \"AIM\"\n",
    "data_specification.guess_header_is_included()\n",
    "data_specification.guess_model_name_n_column_assignments()\n",
    "\n",
    "def run_cleaning_service():\n",
    "    data_cleaner = DataCleaningService(data_specification)\n",
    "    data_cleaner.parse_data()\n",
    "    \n",
    "# run_cleaning_service()"
   ]
  },
  {
   "cell_type": "code",
   "execution_count": null,
   "id": "889a8aac",
   "metadata": {},
   "outputs": [],
   "source": [
    "%snakeviz run_cleaning_service()"
   ]
  },
  {
   "cell_type": "code",
   "execution_count": null,
   "id": "d7a7dcf6",
   "metadata": {},
   "outputs": [],
   "source": []
  }
 ],
 "metadata": {
  "kernelspec": {
   "display_name": "Python 3",
   "language": "python",
   "name": "python3"
  },
  "language_info": {
   "codemirror_mode": {
    "name": "ipython",
    "version": 3
   },
   "file_extension": ".py",
   "mimetype": "text/x-python",
   "name": "python",
   "nbconvert_exporter": "python",
   "pygments_lexer": "ipython3",
   "version": "3.7.7"
  }
 },
 "nbformat": 4,
 "nbformat_minor": 5
}
