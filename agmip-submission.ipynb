{
 "cells": [
  {
   "cell_type": "code",
   "execution_count": null,
   "id": "11137e65",
   "metadata": {},
   "outputs": [],
   "source": [
    "%load_ext autoreload\n",
    "%autoreload 2"
   ]
  },
  {
   "cell_type": "code",
   "execution_count": null,
   "id": "20e0ae75",
   "metadata": {
    "scrolled": true
   },
   "outputs": [],
   "source": [
    "# This notebook is based on Self-Contained Science App\n",
    "from scripts import model      as scsa_model\n",
    "from scripts import view       as scsa_view\n",
    "from scripts import controller as scsa_controller\n",
    "\n",
    "from IPython.display import HTML\n",
    "\n",
    "# Create MVC objects\n",
    "model = scsa_model.Model()\n",
    "view  = scsa_view.View()\n",
    "ctrl  = scsa_controller.Controller() # 0=none 1=info 2=debug\n",
    "\n",
    "# Inform MVC objects of ea. other\n",
    "model.intro(view,ctrl)\n",
    "view.intro(model,ctrl)\n",
    "ctrl.intro(model,view)\n",
    "\n",
    "# Run the notebook\n",
    "ctrl.start()\n"
   ]
  }
 ],
 "metadata": {
  "kernelspec": {
   "display_name": "Python 3",
   "language": "python",
   "name": "python3"
  },
  "language_info": {
   "codemirror_mode": {
    "name": "ipython",
    "version": 3
   },
   "file_extension": ".py",
   "mimetype": "text/x-python",
   "name": "python",
   "nbconvert_exporter": "python",
   "pygments_lexer": "ipython3",
   "version": "3.7.7"
  }
 },
 "nbformat": 4,
 "nbformat_minor": 5
}
