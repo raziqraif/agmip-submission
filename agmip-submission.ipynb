{
 "cells": [
  {
   "cell_type": "code",
   "execution_count": 17,
   "metadata": {},
   "outputs": [],
   "source": [
    "# %matplotlib widget TODO Make matplotlib interactive mode work correctly \n",
    "\n",
    "# This notebook is based on Self-Contained Science App, rcampbel@purdue.edu  \n",
    "# from scripts import model      as scsa_model\n",
    "# from scripts import view       as scsa_view\n",
    "# from scripts import controller as scsa_controller\n",
    "\n",
    "from IPython.display import HTML\n",
    "\n",
    "# display(HTML(filename='style.html'))  # Generic app appearance \n",
    "# display(HTML(filename='header.html')) # Notebook-specific title and style\n",
    "\n",
    "# # Create MVC objects\n",
    "# model = scsa_model.Model()\n",
    "# view  = scsa_view.View()\n",
    "# ctrl  = scsa_controller.Controller(log_mode=0) # 0=none 1=info 2=debug\n",
    "\n",
    "# # Inform MVC objects of ea. other\n",
    "# model.intro(view,ctrl)\n",
    "# view.intro(model,ctrl)\n",
    "# ctrl.intro(model,view)\n",
    "\n",
    "# # Run the notebook\n",
    "# ctrl.start()"
   ]
  },
  {
   "cell_type": "code",
   "execution_count": 13,
   "metadata": {},
   "outputs": [],
   "source": [
    "import ipywidgets as ui\n"
   ]
  },
  {
   "cell_type": "code",
   "execution_count": 22,
   "metadata": {},
   "outputs": [],
   "source": [
    "\"\"\" WELCOME PAGE \"\"\"\n",
    "\n",
    "_usage_accordion = ui.Accordion(children=[])\n",
    "\n",
    "welcome_page = ui.HBox(children=[])"
   ]
  },
  {
   "cell_type": "code",
   "execution_count": 32,
   "metadata": {},
   "outputs": [],
   "source": [
    "\"\"\" FILE UPLOAD PAGE \"\"\"\n",
    "\n",
    "_upload_button = ui.Button(\n",
    "    description=\"Upload\",\n",
    "    disabled=False,\n",
    "    tooltip='Upload a file to MyGeoHub',\n",
    "    icon='upload'\n",
    "\n",
    ")\n",
    "\n",
    "_upload_button_container = ui.HBox(children=[ui.HTML(text=[\"Upload a file:\"]), _upload_button])\n",
    "\n",
    "\n",
    "file_upload_page = ui.HBox(children=[_upload_button_container])"
   ]
  },
  {
   "cell_type": "code",
   "execution_count": null,
   "metadata": {},
   "outputs": [],
   "source": [
    "\"\"\" FILE FORMAT PAGE \"\"\"\n",
    "\n",
    "\n",
    "file_format_page = ui.HBox(children=[])"
   ]
  },
  {
   "cell_type": "code",
   "execution_count": null,
   "metadata": {},
   "outputs": [],
   "source": [
    "\"\"\" DIAGNOSIS PAGE \"\"\"\n",
    "\n",
    "diagnosis_page = ui.HBox(children=[])"
   ]
  },
  {
   "cell_type": "code",
   "execution_count": 33,
   "metadata": {},
   "outputs": [
    {
     "data": {
      "text/html": [
       "<!-- style.html: General app CSS -->\n",
       "<style>\n",
       ".jupyter-widgets.widget-tab > .p-TabBar .p-TabBar-tab {\n",
       "    flex: 0 1 300px\n",
       "}\n",
       ".p-Collapse-header {\n",
       "    color: white !important;\n",
       "    background-color: steelblue !important;\n",
       "    padding-top: 3px;\n",
       "    padding-bottom: 3px;\n",
       "}\n",
       ".p-TabBar-tabLabel {\n",
       "    font-weight: bold !important;\n",
       "    color: steelblue !important;\n",
       "    margin-top: 1em !important;\n",
       "    margin-bottom: 1em !important;\n",
       "}\n",
       ".widget-label {\n",
       "    text-align: left !important;\n",
       "}\n",
       "p {\n",
       "    line-height: 1.2em;\n",
       "    margin-bottom: 1em;\n",
       "}\n",
       "/* Avoid output scrollbars (sub-windowing) */\n",
       ".output_wrapper, .output {\n",
       "    height: auto !important;\n",
       "    max-height: 99999px;\n",
       "}\n",
       ".output_scroll {\n",
       "    box-shadow: none !important;\n",
       "}\n",
       "#site {\n",
       "    height: 100% !important;\n",
       "}\n",
       ".prompt {\n",
       "    min-width: 1px !important; /* Collapse left margin */\n",
       "}\n",
       "pre {\n",
       "    user-select: all;\n",
       "}\n",
       "</style>\n"
      ],
      "text/plain": [
       "<IPython.core.display.HTML object>"
      ]
     },
     "metadata": {},
     "output_type": "display_data"
    },
    {
     "data": {
      "text/html": [
       "<!-- header.html: Notebook-specific CSS and title -->\n",
       "<style>\n",
       ".this_nb_title {\n",
       "    font-weight: bold;\n",
       "    color: steelblue;\n",
       "    background-color: transparent;\n",
       "    font-size: 22px;\n",
       "    border: 0px;\n",
       "    padding: 0px;\n",
       "}\n",
       ".selmono {\n",
       "    font-family: \"Lucida Console\", Monaco, monospace !important;\n",
       "    width: 100%;\n",
       "}\n",
       ".widget-select > select {\n",
       "    font-family: monospace !important;\n",
       "}\n",
       "/* Cause plotly to display \"modebar\" */\n",
       ".container {\n",
       "    min-width: 1200px !important;\n",
       "}\n",
       "</style>\n",
       "<span class=\"this_nb_title\">Land-Ocean Temperature Index</span>\n"
      ],
      "text/plain": [
       "<IPython.core.display.HTML object>"
      ]
     },
     "metadata": {},
     "output_type": "display_data"
    },
    {
     "data": {
      "application/vnd.jupyter.widget-view+json": {
       "model_id": "746203d8e4d04409b009747048ca4f6c",
       "version_major": 2,
       "version_minor": 0
      },
      "text/plain": [
       "Tab(children=(HBox(), HBox(children=(HBox(children=(HTML(value=''), Button(description='Upload', icon='upload'…"
      ]
     },
     "metadata": {},
     "output_type": "display_data"
    }
   ],
   "source": [
    "tab_titles = ['Welcome', 'Upload a file', 'Specify format', 'Diagnosis', 'Plausibility Checking']\n",
    "\n",
    "children = [welcome_page, file_upload_page, ui.Box(), ui.Box(), ui.Box()]\n",
    "tab = ui.Tab()\n",
    "tab.children = children\n",
    "\n",
    "for i in range(len(children)):\n",
    "    tab.set_title(i, tab_titles[i])\n",
    "    \n",
    "display(HTML(filename='style.html'))  # Generic app appearance \n",
    "display(HTML(filename='header.html')) # Notebook-specific title and style\n",
    " \n",
    "tab"
   ]
  }
 ],
 "metadata": {
  "kernelspec": {
   "display_name": "Python [conda env:root] *",
   "language": "python",
   "name": "conda-root-py"
  },
  "language_info": {
   "codemirror_mode": {
    "name": "ipython",
    "version": 3
   },
   "file_extension": ".py",
   "mimetype": "text/x-python",
   "name": "python",
   "nbconvert_exporter": "python",
   "pygments_lexer": "ipython3",
   "version": "3.7.7"
  }
 },
 "nbformat": 4,
 "nbformat_minor": 4
}
